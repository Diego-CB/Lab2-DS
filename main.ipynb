{
 "cells": [
  {
   "cell_type": "markdown",
   "metadata": {},
   "source": [
    "## Laboratorio 2\n",
    "- Diego Cordova 20212\n",
    "- Andrea Lam 20102"
   ]
  },
  {
   "cell_type": "code",
   "execution_count": 3,
   "metadata": {},
   "outputs": [],
   "source": [
    "import os\n",
    "import pandas as pd\n",
    "import numpy as np\n",
    "import seaborn as sns\n",
    "import matplotlib.pyplot as plt\n",
    "from matplotlib.image import imread\n",
    "%matplotlib inline"
   ]
  },
  {
   "cell_type": "code",
   "execution_count": 4,
   "metadata": {},
   "outputs": [],
   "source": [
    "dir_datos = './Data/Datos_Rotulos_Trafico/'"
   ]
  },
  {
   "cell_type": "code",
   "execution_count": 5,
   "metadata": {},
   "outputs": [],
   "source": [
    "trayecto_test = os.path.join(dir_datos, 'prueba.p')\n",
    "trayecto_train = os.path.join(dir_datos, 'entrenamiento.p')\n",
    "trayecto_validation = os.path.join(dir_datos, 'validacion.p')"
   ]
  },
  {
   "cell_type": "code",
   "execution_count": 6,
   "metadata": {},
   "outputs": [
    {
     "name": "stdout",
     "output_type": "stream",
     "text": [
      "El archivo prueba.p existe en la ruta especificada.\n"
     ]
    }
   ],
   "source": [
    "if os.path.exists(trayecto_test):\n",
    "    print(\"El archivo prueba.p existe en la ruta especificada.\")\n",
    "else:\n",
    "    raise Exception(\"El archivo prueba.p no existe en la ruta especificada.\")"
   ]
  },
  {
   "cell_type": "code",
   "execution_count": 7,
   "metadata": {},
   "outputs": [
    {
     "name": "stdout",
     "output_type": "stream",
     "text": [
      "El archivo entrenamiento.p existe en la ruta especificada.\n"
     ]
    }
   ],
   "source": [
    "if os.path.exists(trayecto_train):\n",
    "    print(\"El archivo entrenamiento.p existe en la ruta especificada.\")\n",
    "else:\n",
    "    raise Exception(\"El archivo entrenamiento.p no existe en la ruta especificada.\")"
   ]
  },
  {
   "cell_type": "markdown",
   "metadata": {},
   "source": [
    "### Obtener Data"
   ]
  },
  {
   "cell_type": "code",
   "execution_count": 8,
   "metadata": {},
   "outputs": [],
   "source": [
    "import pickle\n",
    "\n",
    "def get_data(filePath):\n",
    "    with open(filePath, \"rb\") as archivo:\n",
    "        objeto_cargado = pickle.load(archivo)\n",
    "\n",
    "    y = objeto_cargado.pop('labels')\n",
    "    x = objeto_cargado.pop('features')\n",
    "    return x, y\n",
    "\n",
    "X_train, y_train = get_data(os.path.join(dir_datos, 'entrenamiento.p'))\n",
    "X_test, y_test = get_data(os.path.join(dir_datos, 'prueba.p'))\n",
    "X_validation, y_validation = get_data(os.path.join(dir_datos, 'validacion.p'))"
   ]
  },
  {
   "cell_type": "markdown",
   "metadata": {},
   "source": [
    "### Se validan las dimensiones de las imagenes"
   ]
  },
  {
   "cell_type": "code",
   "execution_count": 9,
   "metadata": {},
   "outputs": [
    {
     "name": "stdout",
     "output_type": "stream",
     "text": [
      "No hay dimensiones diferentes en las imagenes de entreno\n",
      "No hay dimensiones diferentes en las imagenes de testing\n",
      "No hay dimensiones diferentes en las imagenes de Validacion\n"
     ]
    }
   ],
   "source": [
    "last = X_train[0].shape\n",
    "diferencia = False\n",
    "\n",
    "for img in X_train:\n",
    "    if img.shape != last:\n",
    "        diferencia = True\n",
    "\n",
    "if diferencia:\n",
    "    print('Hay dimensiones diferentes en las imagenes de entreno')\n",
    "\n",
    "else:\n",
    "    print('No hay dimensiones diferentes en las imagenes de entreno')\n",
    "\n",
    "last = X_test[0].shape\n",
    "diferencia = False\n",
    "\n",
    "for img in X_test:\n",
    "    if img.shape != last:\n",
    "        diferencia = True\n",
    "\n",
    "if diferencia:\n",
    "    print('Hay dimensiones diferentes en las imagenes de testing')\n",
    "\n",
    "else:\n",
    "    print('No hay dimensiones diferentes en las imagenes de testing')\n",
    "\n",
    "last = X_validation[0].shape\n",
    "diferencia = False\n",
    "\n",
    "for img in X_validation:\n",
    "    if img.shape != last:\n",
    "        diferencia = True\n",
    "\n",
    "if diferencia:\n",
    "    print('Hay dimensiones diferentes en las imagenes de Validacion')\n",
    "\n",
    "else:\n",
    "    print('No hay dimensiones diferentes en las imagenes de Validacion')\n"
   ]
  },
  {
   "cell_type": "markdown",
   "metadata": {},
   "source": [
    "### Normalizacion"
   ]
  },
  {
   "cell_type": "code",
   "execution_count": 10,
   "metadata": {},
   "outputs": [
    {
     "data": {
      "text/plain": [
       "19"
      ]
     },
     "execution_count": 10,
     "metadata": {},
     "output_type": "execute_result"
    }
   ],
   "source": [
    "X_train[0].min()"
   ]
  },
  {
   "cell_type": "code",
   "execution_count": 11,
   "metadata": {},
   "outputs": [
    {
     "data": {
      "text/plain": [
       "113"
      ]
     },
     "execution_count": 11,
     "metadata": {},
     "output_type": "execute_result"
    }
   ],
   "source": [
    "X_train[0].max()"
   ]
  },
  {
   "cell_type": "code",
   "execution_count": 12,
   "metadata": {},
   "outputs": [
    {
     "data": {
      "text/plain": [
       "<matplotlib.image.AxesImage at 0x2294f5c4810>"
      ]
     },
     "execution_count": 12,
     "metadata": {},
     "output_type": "execute_result"
    },
    {
     "data": {
      "image/png": "[encoded data removed]",
      "text/plain": [
       "<Figure size 640x480 with 1 Axes>"
      ]
     },
     "metadata": {},
     "output_type": "display_data"
    }
   ],
   "source": [
    "plt.imshow(X_train[0])"
   ]
  },
  {
   "cell_type": "code",
   "execution_count": 13,
   "metadata": {},
   "outputs": [],
   "source": [
    "X_train = X_train / 255\n",
    "X_test = X_test / 255\n",
    "X_validation = X_validation / 255"
   ]
  },
  {
   "cell_type": "code",
   "execution_count": 14,
   "metadata": {},
   "outputs": [
    {
     "data": {
      "text/plain": [
       "<matplotlib.image.AxesImage at 0x2294f64ca10>"
      ]
     },
     "execution_count": 14,
     "metadata": {},
     "output_type": "execute_result"
    },
    {
     "data": {
      "image/png": "[encoded data removed]",
      "text/plain": [
       "<Figure size 640x480 with 1 Axes>"
      ]
     },
     "metadata": {},
     "output_type": "display_data"
    }
   ],
   "source": [
    "plt.imshow(X_train[0])"
   ]
  },
  {
   "cell_type": "code",
   "execution_count": 15,
   "metadata": {},
   "outputs": [
    {
     "data": {
      "text/plain": [
       "(34799, 32, 32, 3)"
      ]
     },
     "execution_count": 15,
     "metadata": {},
     "output_type": "execute_result"
    }
   ],
   "source": [
    "X_train.shape"
   ]
  },
  {
   "cell_type": "markdown",
   "metadata": {},
   "source": [
    "### Definicion del modelo"
   ]
  },
  {
   "cell_type": "code",
   "execution_count": 16,
   "metadata": {},
   "outputs": [],
   "source": [
    "from tensorflow.keras.models import Sequential\n",
    "from tensorflow.keras.layers import Dense, Conv2D, MaxPool2D, Flatten, Conv3D"
   ]
  },
  {
   "cell_type": "code",
   "execution_count": 40,
   "metadata": {},
   "outputs": [],
   "source": [
    "modelo = Sequential()\n",
    "\n",
    "# Capa convolucional\n",
    "modelo.add(Conv2D(filters = 32, kernel_size = (5, 5), input_shape = (32, 32, 3), activation = 'relu'))\n",
    "\n",
    "# Capa pooling\n",
    "modelo.add(MaxPool2D(pool_size = (2, 2)))\n",
    "\n",
    "# Capa convolucional\n",
    "modelo.add(Conv2D(filters = 16, kernel_size = (5, 5), input_shape = (32, 32, 3), activation = 'relu'))\n",
    "\n",
    "# Capa pooling\n",
    "modelo.add(MaxPool2D(pool_size = (2, 2)))\n",
    "\n",
    "# Capa aplanada\n",
    "modelo.add(Flatten())\n",
    "\n",
    "# Hidden layers\n",
    "modelo.add(Dense(120, activation = 'relu'))\n",
    "modelo.add(Dense(84, activation = 'relu'))\n",
    "\n",
    "# Clasificadora (softmax)\n",
    "modelo.add(Dense(43, activation='softmax'))"
   ]
  },
  {
   "cell_type": "code",
   "execution_count": 41,
   "metadata": {},
   "outputs": [
    {
     "name": "stdout",
     "output_type": "stream",
     "text": [
      "Model: \"sequential_3\"\n",
      "_________________________________________________________________\n",
      " Layer (type)                Output Shape              Param #   \n",
      "=================================================================\n",
      " conv2d_6 (Conv2D)           (None, 28, 28, 32)        2432      \n",
      "                                                                 \n",
      " max_pooling2d_6 (MaxPoolin  (None, 14, 14, 32)        0         \n",
      " g2D)                                                            \n",
      "                                                                 \n",
      " conv2d_7 (Conv2D)           (None, 10, 10, 16)        12816     \n",
      "                                                                 \n",
      " max_pooling2d_7 (MaxPoolin  (None, 5, 5, 16)          0         \n",
      " g2D)                                                            \n",
      "                                                                 \n",
      " flatten_3 (Flatten)         (None, 400)               0         \n",
      "                                                                 \n",
      " dense_9 (Dense)             (None, 120)               48120     \n",
      "                                                                 \n",
      " dense_10 (Dense)            (None, 84)                10164     \n",
      "                                                                 \n",
      " dense_11 (Dense)            (None, 43)                3655      \n",
      "                                                                 \n",
      "=================================================================\n",
      "Total params: 77187 (301.51 KB)\n",
      "Trainable params: 77187 (301.51 KB)\n",
      "Non-trainable params: 0 (0.00 Byte)\n",
      "_________________________________________________________________\n"
     ]
    }
   ],
   "source": [
    "import tensorflow as tf\n",
    "modelo.compile(\n",
    "    optimizer = tf.keras.optimizers.Adam(learning_rate=0.001),\n",
    "    loss = tf.losses.SparseCategoricalCrossentropy(),\n",
    "    metrics = ['accuracy']\n",
    ")\n",
    "\n",
    "modelo.build((32, 32, 3))\n",
    "modelo.summary()"
   ]
  },
  {
   "cell_type": "markdown",
   "metadata": {},
   "source": [
    "### Entreno del modelo"
   ]
  },
  {
   "cell_type": "code",
   "execution_count": 42,
   "metadata": {},
   "outputs": [
    {
     "name": "stdout",
     "output_type": "stream",
     "text": [
      "Epoch 1/10\n",
      "1088/1088 [==============================] - 35s 30ms/step - loss: 1.1268 - accuracy: 0.6864 - val_loss: 0.6436 - val_accuracy: 0.8613\n",
      "Epoch 2/10\n",
      "1088/1088 [==============================] - 39s 36ms/step - loss: 0.2024 - accuracy: 0.9447 - val_loss: 0.5404 - val_accuracy: 0.8771\n",
      "Epoch 3/10\n",
      "1088/1088 [==============================] - 36s 33ms/step - loss: 0.1118 - accuracy: 0.9696 - val_loss: 0.5697 - val_accuracy: 0.9008\n",
      "Epoch 4/10\n",
      "1088/1088 [==============================] - 36s 33ms/step - loss: 0.0820 - accuracy: 0.9777 - val_loss: 0.5540 - val_accuracy: 0.9125\n"
     ]
    },
    {
     "data": {
      "text/plain": [
       "<keras.src.callbacks.History at 0x229c4a72b50>"
      ]
     },
     "execution_count": 42,
     "metadata": {},
     "output_type": "execute_result"
    }
   ],
   "source": [
    "from tensorflow.keras.callbacks import EarlyStopping\n",
    "detencion_temprana = EarlyStopping(monitor = 'val_loss', patience = 2)\n",
    "\n",
    "modelo.fit(\n",
    "    X_train,\n",
    "    y_train,\n",
    "    epochs = 10,\n",
    "    validation_data = (X_test, y_test),\n",
    "    callbacks = [detencion_temprana]\n",
    ")"
   ]
  },
  {
   "cell_type": "markdown",
   "metadata": {},
   "source": [
    "### Testing"
   ]
  },
  {
   "cell_type": "code",
   "execution_count": 43,
   "metadata": {},
   "outputs": [
    {
     "data": {
      "text/html": [
       "<div>\n",
       "<style scoped>\n",
       "    .dataframe tbody tr th:only-of-type {\n",
       "        vertical-align: middle;\n",
       "    }\n",
       "\n",
       "    .dataframe tbody tr th {\n",
       "        vertical-align: top;\n",
       "    }\n",
       "\n",
       "    .dataframe thead th {\n",
       "        text-align: right;\n",
       "    }\n",
       "</style>\n",
       "<table border=\"1\" class=\"dataframe\">\n",
       "  <thead>\n",
       "    <tr style=\"text-align: right;\">\n",
       "      <th></th>\n",
       "      <th>loss</th>\n",
       "      <th>accuracy</th>\n",
       "      <th>val_loss</th>\n",
       "      <th>val_accuracy</th>\n",
       "    </tr>\n",
       "  </thead>\n",
       "  <tbody>\n",
       "    <tr>\n",
       "      <th>0</th>\n",
       "      <td>1.126846</td>\n",
       "      <td>0.686370</td>\n",
       "      <td>0.643559</td>\n",
       "      <td>0.861283</td>\n",
       "    </tr>\n",
       "    <tr>\n",
       "      <th>1</th>\n",
       "      <td>0.202421</td>\n",
       "      <td>0.944654</td>\n",
       "      <td>0.540417</td>\n",
       "      <td>0.877118</td>\n",
       "    </tr>\n",
       "    <tr>\n",
       "      <th>2</th>\n",
       "      <td>0.111758</td>\n",
       "      <td>0.969626</td>\n",
       "      <td>0.569740</td>\n",
       "      <td>0.900792</td>\n",
       "    </tr>\n",
       "    <tr>\n",
       "      <th>3</th>\n",
       "      <td>0.082010</td>\n",
       "      <td>0.977701</td>\n",
       "      <td>0.553965</td>\n",
       "      <td>0.912510</td>\n",
       "    </tr>\n",
       "  </tbody>\n",
       "</table>\n",
       "</div>"
      ],
      "text/plain": [
       "       loss  accuracy  val_loss  val_accuracy\n",
       "0  1.126846  0.686370  0.643559      0.861283\n",
       "1  0.202421  0.944654  0.540417      0.877118\n",
       "2  0.111758  0.969626  0.569740      0.900792\n",
       "3  0.082010  0.977701  0.553965      0.912510"
      ]
     },
     "execution_count": 43,
     "metadata": {},
     "output_type": "execute_result"
    },
    {
     "data": {
      "image/png": "[encoded data removed]",
      "text/plain": [
       "<Figure size 640x480 with 1 Axes>"
      ]
     },
     "metadata": {},
     "output_type": "display_data"
    },
    {
     "data": {
      "image/png": "[encoded data removed]",
      "text/plain": [
       "<Figure size 640x480 with 1 Axes>"
      ]
     },
     "metadata": {},
     "output_type": "display_data"
    }
   ],
   "source": [
    "modelo.metrics_names\n",
    "metricas = pd.DataFrame(modelo.history.history)\n",
    "metricas[['accuracy', 'val_accuracy']].plot()\n",
    "metricas[['loss', 'val_loss']].plot()\n",
    "metricas.head()"
   ]
  },
  {
   "cell_type": "code",
   "execution_count": 44,
   "metadata": {},
   "outputs": [
    {
     "name": "stdout",
     "output_type": "stream",
     "text": [
      "['loss', 'accuracy']\n",
      "[0.5539652705192566, 0.9125099182128906]\n"
     ]
    }
   ],
   "source": [
    "print(modelo.metrics_names)\n",
    "print(modelo.evaluate(X_test, y_test, verbose = 0))"
   ]
  },
  {
   "cell_type": "code",
   "execution_count": 45,
   "metadata": {},
   "outputs": [
    {
     "name": "stdout",
     "output_type": "stream",
     "text": [
      "395/395 [==============================] - 2s 6ms/step\n",
      "              precision    recall  f1-score   support\n",
      "\n",
      "           0       0.94      0.75      0.83        60\n",
      "           1       0.88      0.97      0.93       720\n",
      "           2       0.91      0.93      0.92       750\n",
      "           3       0.81      0.98      0.88       450\n",
      "           4       0.95      0.93      0.94       660\n",
      "           5       0.90      0.81      0.86       630\n",
      "           6       0.95      0.82      0.88       150\n",
      "           7       0.91      0.84      0.87       450\n",
      "           8       0.94      0.92      0.93       450\n",
      "           9       0.92      0.97      0.95       480\n",
      "          10       0.99      0.96      0.97       660\n",
      "          11       0.89      0.87      0.88       420\n",
      "          12       0.99      0.93      0.96       690\n",
      "          13       0.99      0.99      0.99       720\n",
      "          14       0.99      0.96      0.98       270\n",
      "          15       0.92      0.95      0.93       210\n",
      "          16       1.00      0.97      0.98       150\n",
      "          17       1.00      0.91      0.95       360\n",
      "          18       0.90      0.75      0.82       390\n",
      "          19       0.91      0.97      0.94        60\n",
      "          20       0.93      0.92      0.93        90\n",
      "          21       0.96      0.54      0.70        90\n",
      "          22       0.80      0.88      0.84       120\n",
      "          23       0.86      0.91      0.89       150\n",
      "          24       0.59      0.63      0.61        90\n",
      "          25       0.93      0.91      0.92       480\n",
      "          26       0.65      0.86      0.74       180\n",
      "          27       0.48      0.50      0.49        60\n",
      "          28       0.93      0.75      0.83       150\n",
      "          29       0.60      1.00      0.75        90\n",
      "          30       0.77      0.61      0.68       150\n",
      "          31       0.94      0.95      0.94       270\n",
      "          32       0.88      1.00      0.94        60\n",
      "          33       0.96      0.98      0.97       210\n",
      "          34       0.96      0.90      0.93       120\n",
      "          35       0.99      0.98      0.99       390\n",
      "          36       0.97      0.97      0.97       120\n",
      "          37       0.97      0.97      0.97        60\n",
      "          38       0.92      0.98      0.95       690\n",
      "          39       0.95      0.97      0.96        90\n",
      "          40       0.77      0.88      0.82        90\n",
      "          41       0.80      0.87      0.83        60\n",
      "          42       0.88      0.84      0.86        90\n",
      "\n",
      "    accuracy                           0.91     12630\n",
      "   macro avg       0.89      0.88      0.88     12630\n",
      "weighted avg       0.92      0.91      0.91     12630\n",
      "\n"
     ]
    }
   ],
   "source": [
    "import numpy as np\n",
    "from sklearn.metrics import classification_report\n",
    "\n",
    "# Realizar predicciones con el modelo\n",
    "y_pred = modelo.predict(X_test)\n",
    "y_pred_classes = np.argmax(y_pred, axis=1)  # Obtener las clases predichas\n",
    "\n",
    "# Calcular métricas de evaluación\n",
    "report = classification_report(y_test, y_pred_classes)\n",
    "print(report)"
   ]
  }
 ],
 "metadata": {
  "kernelspec": {
   "display_name": "venv",
   "language": "python",
   "name": "python3"
  },
  "language_info": {
   "codemirror_mode": {
    "name": "ipython",
    "version": 3
   },
   "file_extension": ".py",
   "mimetype": "text/x-python",
   "name": "python",
   "nbconvert_exporter": "python",
   "pygments_lexer": "ipython3",
   "version": "3.11.4"
  },
  "orig_nbformat": 4
 },
 "nbformat": 4,
 "nbformat_minor": 2
}
