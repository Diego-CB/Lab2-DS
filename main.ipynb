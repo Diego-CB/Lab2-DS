{
 "cells": [
  {
   "cell_type": "markdown",
   "metadata": {},
   "source": [
    "## Laboratorio 2\n",
    "- Diego Cordova 20212\n",
    "- Andrea Lam 20102"
   ]
  },
  {
   "cell_type": "code",
   "execution_count": 1,
   "metadata": {},
   "outputs": [],
   "source": [
    "import os\n",
    "import pandas as pd\n",
    "import numpy as np\n",
    "import seaborn as sns\n",
    "import matplotlib.pyplot as plt\n",
    "from matplotlib.image import imread\n",
    "%matplotlib inline"
   ]
  },
  {
   "cell_type": "code",
   "execution_count": 2,
   "metadata": {},
   "outputs": [],
   "source": [
    "dir_datos = './Data/Datos_Rotulos_Trafico/'"
   ]
  },
  {
   "cell_type": "code",
   "execution_count": 3,
   "metadata": {},
   "outputs": [],
   "source": [
    "trayecto_test = os.path.join(dir_datos, 'prueba.p')\n",
    "trayecto_train = os.path.join(dir_datos, 'entrenamiento.p')\n",
    "trayecto_validation = os.path.join(dir_datos, 'validacion.p')"
   ]
  },
  {
   "cell_type": "code",
   "execution_count": 4,
   "metadata": {},
   "outputs": [
    {
     "name": "stdout",
     "output_type": "stream",
     "text": [
      "El archivo prueba.p existe en la ruta especificada.\n"
     ]
    }
   ],
   "source": [
    "if os.path.exists(trayecto_test):\n",
    "    print(\"El archivo prueba.p existe en la ruta especificada.\")\n",
    "else:\n",
    "    raise Exception(\"El archivo prueba.p no existe en la ruta especificada.\")"
   ]
  },
  {
   "cell_type": "code",
   "execution_count": 5,
   "metadata": {},
   "outputs": [
    {
     "name": "stdout",
     "output_type": "stream",
     "text": [
      "El archivo entrenamiento.p existe en la ruta especificada.\n"
     ]
    }
   ],
   "source": [
    "if os.path.exists(trayecto_train):\n",
    "    print(\"El archivo entrenamiento.p existe en la ruta especificada.\")\n",
    "else:\n",
    "    raise Exception(\"El archivo entrenamiento.p no existe en la ruta especificada.\")"
   ]
  },
  {
   "cell_type": "markdown",
   "metadata": {},
   "source": [
    "### Obtener Data"
   ]
  },
  {
   "cell_type": "code",
   "execution_count": 6,
   "metadata": {},
   "outputs": [],
   "source": [
    "import pickle\n",
    "\n",
    "def get_data(filePath):\n",
    "    with open(filePath, \"rb\") as archivo:\n",
    "        objeto_cargado = pickle.load(archivo)\n",
    "\n",
    "    y = objeto_cargado.pop('labels')\n",
    "    x = objeto_cargado.pop('features')\n",
    "    return x, y\n",
    "\n",
    "X_train, y_train = get_data(os.path.join(dir_datos, 'entrenamiento.p'))\n",
    "X_test, y_test = get_data(os.path.join(dir_datos, 'prueba.p'))\n",
    "X_validation, y_validation = get_data(os.path.join(dir_datos, 'validacion.p'))"
   ]
  },
  {
   "cell_type": "markdown",
   "metadata": {},
   "source": [
    "### Se validan las dimensiones de las imagenes"
   ]
  },
  {
   "cell_type": "code",
   "execution_count": 7,
   "metadata": {},
   "outputs": [
    {
     "name": "stdout",
     "output_type": "stream",
     "text": [
      "No hay dimensiones diferentes en las imagenes de entreno\n",
      "No hay dimensiones diferentes en las imagenes de testing\n",
      "No hay dimensiones diferentes en las imagenes de Validacion\n"
     ]
    }
   ],
   "source": [
    "last = X_train[0].shape\n",
    "diferencia = False\n",
    "\n",
    "for img in X_train:\n",
    "    if img.shape != last:\n",
    "        diferencia = True\n",
    "\n",
    "if diferencia:\n",
    "    print('Hay dimensiones diferentes en las imagenes de entreno')\n",
    "\n",
    "else:\n",
    "    print('No hay dimensiones diferentes en las imagenes de entreno')\n",
    "\n",
    "last = X_test[0].shape\n",
    "diferencia = False\n",
    "\n",
    "for img in X_test:\n",
    "    if img.shape != last:\n",
    "        diferencia = True\n",
    "\n",
    "if diferencia:\n",
    "    print('Hay dimensiones diferentes en las imagenes de testing')\n",
    "\n",
    "else:\n",
    "    print('No hay dimensiones diferentes en las imagenes de testing')\n",
    "\n",
    "last = X_validation[0].shape\n",
    "diferencia = False\n",
    "\n",
    "for img in X_validation:\n",
    "    if img.shape != last:\n",
    "        diferencia = True\n",
    "\n",
    "if diferencia:\n",
    "    print('Hay dimensiones diferentes en las imagenes de Validacion')\n",
    "\n",
    "else:\n",
    "    print('No hay dimensiones diferentes en las imagenes de Validacion')\n"
   ]
  },
  {
   "cell_type": "markdown",
   "metadata": {},
   "source": [
    "### Normalizacion"
   ]
  },
  {
   "cell_type": "code",
   "execution_count": 8,
   "metadata": {},
   "outputs": [
    {
     "data": {
      "text/plain": [
       "19"
      ]
     },
     "execution_count": 8,
     "metadata": {},
     "output_type": "execute_result"
    }
   ],
   "source": [
    "X_train[0].min()"
   ]
  },
  {
   "cell_type": "code",
   "execution_count": 9,
   "metadata": {},
   "outputs": [
    {
     "data": {
      "text/plain": [
       "113"
      ]
     },
     "execution_count": 9,
     "metadata": {},
     "output_type": "execute_result"
    }
   ],
   "source": [
    "X_train[0].max()"
   ]
  },
  {
   "cell_type": "code",
   "execution_count": 10,
   "metadata": {},
   "outputs": [
    {
     "data": {
      "text/plain": [
       "<matplotlib.image.AxesImage at 0x2466c22f910>"
      ]
     },
     "execution_count": 10,
     "metadata": {},
     "output_type": "execute_result"
    },
    {
     "data": {
      "image/png": "[encoded data removed]",
      "text/plain": [
       "<Figure size 640x480 with 1 Axes>"
      ]
     },
     "metadata": {},
     "output_type": "display_data"
    }
   ],
   "source": [
    "plt.imshow(X_train[0])"
   ]
  },
  {
   "cell_type": "code",
   "execution_count": 11,
   "metadata": {},
   "outputs": [],
   "source": [
    "X_train = X_train / 255\n",
    "X_test = X_test / 255\n",
    "X_validation = X_validation / 255"
   ]
  },
  {
   "cell_type": "code",
   "execution_count": 12,
   "metadata": {},
   "outputs": [
    {
     "data": {
      "text/plain": [
       "<matplotlib.image.AxesImage at 0x2466c398430>"
      ]
     },
     "execution_count": 12,
     "metadata": {},
     "output_type": "execute_result"
    },
    {
     "data": {
      "image/png": "[encoded data removed]",
      "text/plain": [
       "<Figure size 640x480 with 1 Axes>"
      ]
     },
     "metadata": {},
     "output_type": "display_data"
    }
   ],
   "source": [
    "plt.imshow(X_train[0])"
   ]
  },
  {
   "cell_type": "code",
   "execution_count": 13,
   "metadata": {},
   "outputs": [
    {
     "data": {
      "text/plain": [
       "(34799, 32, 32, 3)"
      ]
     },
     "execution_count": 13,
     "metadata": {},
     "output_type": "execute_result"
    }
   ],
   "source": [
    "X_train.shape"
   ]
  },
  {
   "cell_type": "markdown",
   "metadata": {},
   "source": [
    "### Definicion del modelo"
   ]
  },
  {
   "cell_type": "code",
   "execution_count": 14,
   "metadata": {},
   "outputs": [],
   "source": [
    "from tensorflow.keras.models import Sequential\n",
    "from tensorflow.keras.layers import Dense, Conv2D, MaxPool2D, Flatten, Conv3D"
   ]
  },
  {
   "cell_type": "code",
   "execution_count": 15,
   "metadata": {},
   "outputs": [],
   "source": [
    "modelo = Sequential()\n",
    "\n",
    "# Capa convolucional\n",
    "modelo.add(Conv2D(filters = 32, kernel_size = (5, 5), input_shape = (32, 32, 3), activation = 'relu'))\n",
    "\n",
    "# Capa pooling\n",
    "modelo.add(MaxPool2D(pool_size = (2, 2)))\n",
    "\n",
    "# Capa convolucional\n",
    "modelo.add(Conv2D(filters = 16, kernel_size = (5, 5), input_shape = (32, 32, 3), activation = 'relu'))\n",
    "\n",
    "# Capa pooling\n",
    "modelo.add(MaxPool2D(pool_size = (2, 2)))\n",
    "\n",
    "# Capa aplanada\n",
    "modelo.add(Flatten())\n",
    "\n",
    "# Hidden layers\n",
    "modelo.add(Dense(120, activation = 'relu'))\n",
    "modelo.add(Dense(84, activation = 'relu'))\n",
    "\n",
    "# Clasificadora (softmax)\n",
    "modelo.add(Dense(43, activation='softmax'))"
   ]
  },
  {
   "cell_type": "code",
   "execution_count": 16,
   "metadata": {},
   "outputs": [
    {
     "name": "stdout",
     "output_type": "stream",
     "text": [
      "Model: \"sequential\"\n",
      "_________________________________________________________________\n",
      " Layer (type)                Output Shape              Param #   \n",
      "=================================================================\n",
      " conv2d (Conv2D)             (None, 28, 28, 32)        2432      \n",
      "                                                                 \n",
      " max_pooling2d (MaxPooling2  (None, 14, 14, 32)        0         \n",
      " D)                                                              \n",
      "                                                                 \n",
      " conv2d_1 (Conv2D)           (None, 10, 10, 16)        12816     \n",
      "                                                                 \n",
      " max_pooling2d_1 (MaxPoolin  (None, 5, 5, 16)          0         \n",
      " g2D)                                                            \n",
      "                                                                 \n",
      " flatten (Flatten)           (None, 400)               0         \n",
      "                                                                 \n",
      " dense (Dense)               (None, 120)               48120     \n",
      "                                                                 \n",
      " dense_1 (Dense)             (None, 84)                10164     \n",
      "                                                                 \n",
      " dense_2 (Dense)             (None, 43)                3655      \n",
      "                                                                 \n",
      "=================================================================\n"
     ]
    },
    {
     "name": "stdout",
     "output_type": "stream",
     "text": [
      "Total params: 77187 (301.51 KB)\n",
      "Trainable params: 77187 (301.51 KB)\n",
      "Non-trainable params: 0 (0.00 Byte)\n",
      "_________________________________________________________________\n"
     ]
    }
   ],
   "source": [
    "import tensorflow as tf\n",
    "modelo.compile(\n",
    "    optimizer = tf.keras.optimizers.Adam(learning_rate=0.001),\n",
    "    loss = tf.losses.SparseCategoricalCrossentropy(),\n",
    "    metrics = ['accuracy']\n",
    ")\n",
    "\n",
    "modelo.build((32, 32, 3))\n",
    "modelo.summary()"
   ]
  },
  {
   "cell_type": "markdown",
   "metadata": {},
   "source": [
    "### Entreno del modelo"
   ]
  },
  {
   "cell_type": "code",
   "execution_count": 17,
   "metadata": {},
   "outputs": [
    {
     "name": "stdout",
     "output_type": "stream",
     "text": [
      "Epoch 1/10\n",
      "1088/1088 [==============================] - 29s 25ms/step - loss: 1.0609 - accuracy: 0.7110 - val_loss: 0.6544 - val_accuracy: 0.8548\n",
      "Epoch 2/10\n",
      "1088/1088 [==============================] - 26s 24ms/step - loss: 0.1852 - accuracy: 0.9505 - val_loss: 0.5396 - val_accuracy: 0.8856\n",
      "Epoch 3/10\n",
      "1088/1088 [==============================] - 30s 27ms/step - loss: 0.0991 - accuracy: 0.9728 - val_loss: 0.5405 - val_accuracy: 0.9090\n",
      "Epoch 4/10\n",
      "1088/1088 [==============================] - 34s 31ms/step - loss: 0.0710 - accuracy: 0.9807 - val_loss: 0.5652 - val_accuracy: 0.9117\n"
     ]
    },
    {
     "data": {
      "text/plain": [
       "<keras.src.callbacks.History at 0x24604b25a90>"
      ]
     },
     "execution_count": 17,
     "metadata": {},
     "output_type": "execute_result"
    }
   ],
   "source": [
    "from tensorflow.keras.callbacks import EarlyStopping\n",
    "detencion_temprana = EarlyStopping(monitor = 'val_loss', patience = 2)\n",
    "\n",
    "modelo.fit(\n",
    "    X_train,\n",
    "    y_train,\n",
    "    epochs = 10,\n",
    "    validation_data = (X_test, y_test),\n",
    "    callbacks = [detencion_temprana]\n",
    ")"
   ]
  },
  {
   "cell_type": "markdown",
   "metadata": {},
   "source": [
    "### Testing"
   ]
  },
  {
   "cell_type": "code",
   "execution_count": 18,
   "metadata": {},
   "outputs": [
    {
     "data": {
      "text/html": [
       "<div>\n",
       "<style scoped>\n",
       "    .dataframe tbody tr th:only-of-type {\n",
       "        vertical-align: middle;\n",
       "    }\n",
       "\n",
       "    .dataframe tbody tr th {\n",
       "        vertical-align: top;\n",
       "    }\n",
       "\n",
       "    .dataframe thead th {\n",
       "        text-align: right;\n",
       "    }\n",
       "</style>\n",
       "<table border=\"1\" class=\"dataframe\">\n",
       "  <thead>\n",
       "    <tr style=\"text-align: right;\">\n",
       "      <th></th>\n",
       "      <th>loss</th>\n",
       "      <th>accuracy</th>\n",
       "      <th>val_loss</th>\n",
       "      <th>val_accuracy</th>\n",
       "    </tr>\n",
       "  </thead>\n",
       "  <tbody>\n",
       "    <tr>\n",
       "      <th>0</th>\n",
       "      <td>1.060907</td>\n",
       "      <td>0.711026</td>\n",
       "      <td>0.654361</td>\n",
       "      <td>0.854790</td>\n",
       "    </tr>\n",
       "    <tr>\n",
       "      <th>1</th>\n",
       "      <td>0.185201</td>\n",
       "      <td>0.950545</td>\n",
       "      <td>0.539649</td>\n",
       "      <td>0.885590</td>\n",
       "    </tr>\n",
       "    <tr>\n",
       "      <th>2</th>\n",
       "      <td>0.099129</td>\n",
       "      <td>0.972844</td>\n",
       "      <td>0.540528</td>\n",
       "      <td>0.909026</td>\n",
       "    </tr>\n",
       "    <tr>\n",
       "      <th>3</th>\n",
       "      <td>0.071002</td>\n",
       "      <td>0.980747</td>\n",
       "      <td>0.565187</td>\n",
       "      <td>0.911718</td>\n",
       "    </tr>\n",
       "  </tbody>\n",
       "</table>\n",
       "</div>"
      ],
      "text/plain": [
       "       loss  accuracy  val_loss  val_accuracy\n",
       "0  1.060907  0.711026  0.654361      0.854790\n",
       "1  0.185201  0.950545  0.539649      0.885590\n",
       "2  0.099129  0.972844  0.540528      0.909026\n",
       "3  0.071002  0.980747  0.565187      0.911718"
      ]
     },
     "execution_count": 18,
     "metadata": {},
     "output_type": "execute_result"
    },
    {
     "data": {
      "image/png": "[encoded data removed]",
      "text/plain": [
       "<Figure size 640x480 with 1 Axes>"
      ]
     },
     "metadata": {},
     "output_type": "display_data"
    },
    {
     "data": {
      "image/png": "[encoded data removed]",
      "text/plain": [
       "<Figure size 640x480 with 1 Axes>"
      ]
     },
     "metadata": {},
     "output_type": "display_data"
    }
   ],
   "source": [
    "modelo.metrics_names\n",
    "metricas = pd.DataFrame(modelo.history.history)\n",
    "metricas[['accuracy', 'val_accuracy']].plot()\n",
    "metricas[['loss', 'val_loss']].plot()\n",
    "metricas.head()"
   ]
  },
  {
   "cell_type": "code",
   "execution_count": 19,
   "metadata": {},
   "outputs": [
    {
     "name": "stdout",
     "output_type": "stream",
     "text": [
      "['loss', 'accuracy']\n",
      "[0.5651873350143433, 0.9117181301116943]\n"
     ]
    }
   ],
   "source": [
    "print(modelo.metrics_names)\n",
    "print(modelo.evaluate(X_test, y_test, verbose = 0))"
   ]
  },
  {
   "cell_type": "code",
   "execution_count": 22,
   "metadata": {},
   "outputs": [
    {
     "name": "stdout",
     "output_type": "stream",
     "text": [
      "395/395 [==============================] - 2s 6ms/step\n",
      "              precision    recall  f1-score   support\n",
      "\n",
      "           0       0.91      0.70      0.79        60\n",
      "           1       0.93      0.95      0.94       720\n",
      "           2       0.88      0.97      0.92       750\n",
      "           3       0.88      0.92      0.90       450\n",
      "           4       0.98      0.92      0.95       660\n",
      "           5       0.87      0.88      0.88       630\n",
      "           6       1.00      0.71      0.83       150\n",
      "           7       0.96      0.82      0.88       450\n",
      "           8       0.90      0.91      0.91       450\n",
      "           9       0.94      0.99      0.97       480\n",
      "          10       0.97      0.97      0.97       660\n",
      "          11       0.89      0.93      0.91       420\n",
      "          12       0.92      0.95      0.93       690\n",
      "          13       0.98      0.98      0.98       720\n",
      "          14       0.99      1.00      0.99       270\n",
      "          15       0.75      0.98      0.85       210\n",
      "          16       0.97      0.99      0.98       150\n",
      "          17       1.00      0.99      0.99       360\n",
      "          18       0.95      0.77      0.85       390\n",
      "          19       0.70      0.83      0.76        60\n",
      "          20       0.64      0.92      0.76        90\n",
      "          21       0.98      0.47      0.63        90\n",
      "          22       0.96      0.89      0.93       120\n",
      "          23       0.83      0.74      0.78       150\n",
      "          24       0.71      0.63      0.67        90\n",
      "          25       0.85      0.88      0.87       480\n",
      "          26       0.87      0.79      0.83       180\n",
      "          27       0.73      0.40      0.52        60\n",
      "          28       0.83      0.95      0.88       150\n",
      "          29       0.58      1.00      0.74        90\n",
      "          30       0.74      0.52      0.61       150\n",
      "          31       0.81      0.97      0.88       270\n",
      "          32       0.77      1.00      0.87        60\n",
      "          33       0.93      0.97      0.95       210\n",
      "          34       0.95      0.99      0.97       120\n",
      "          35       1.00      0.91      0.95       390\n",
      "          36       0.98      0.99      0.99       120\n",
      "          37       1.00      0.83      0.91        60\n",
      "          38       0.96      0.98      0.97       690\n",
      "          39       0.99      0.74      0.85        90\n",
      "          40       0.83      0.98      0.90        90\n",
      "          41       0.93      0.70      0.80        60\n",
      "          42       1.00      0.72      0.84        90\n",
      "\n",
      "    accuracy                           0.91     12630\n",
      "   macro avg       0.89      0.86      0.87     12630\n",
      "weighted avg       0.92      0.91      0.91     12630\n",
      "\n"
     ]
    }
   ],
   "source": [
    "import numpy as np\n",
    "from sklearn.metrics import classification_report\n",
    "\n",
    "# Realizar predicciones con el modelo\n",
    "y_pred = modelo.predict(X_test)\n",
    "y_pred_classes = np.argmax(y_pred, axis=1)  # Obtener las clases predichas\n",
    "\n",
    "# Calcular métricas de evaluación\n",
    "report = classification_report(y_test, y_pred_classes)\n",
    "print(report)"
   ]
  },
  {
   "cell_type": "markdown",
   "metadata": {},
   "source": [
    "Interpretación de Resultados (5 puntos): Explicación de cómo el modelo se desempeña en diferentes clases."
   ]
  },
  {
   "cell_type": "markdown",
   "metadata": {},
   "source": [
    "Los resultados muestran que el modelo está aprendiendo de manera efectiva y logrando una alta precisión tanto en los datos de entrenamiento como en los datos de validación. Sin embargo, es importante considerar algunas cosas:\n",
    "\n",
    "- Puede haber una ligera señal de sobreajuste (overfitting) ya que la precisión en el conjunto de entrenamiento es significativamente más alta que en el conjunto de validación.\n",
    "- Sería útil evaluar el modelo en un conjunto de datos completamente nuevo (conjunto de prueba) para obtener una evaluación más completa de su rendimiento."
   ]
  },
  {
   "cell_type": "markdown",
   "metadata": {},
   "source": [
    "Mejoras y Experimentación (10 puntos)"
   ]
  },
  {
   "cell_type": "markdown",
   "metadata": {},
   "source": [
    "Descripción de al menos un experimento para mejorar el rendimiento del modelo\n",
    "\n",
    "Se puede experimentar aumentando el numero de data para entrenamiento, ademas de ajustar los hiperparametros para ver que ajustes se adaptan mejor al modelo, datos y computador usado.\n"
   ]
  },
  {
   "cell_type": "markdown",
   "metadata": {},
   "source": [
    "Reflexión sobre Resultados (5 puntos): Reflexión sobre los resultados de los experimentos y cómo podrían aplicarse en situaciones reales.\n",
    "\n",
    "Pues como se menciono antes al revisar los resultados y como esta la marca de loss, accuracy y sus respectivos valores, se mostro un buen desempeño para el entrenamiento del modelo lo cual se puede verificar en las graficas anteriores"
   ]
  }
 ],
 "metadata": {
  "kernelspec": {
   "display_name": "venv",
   "language": "python",
   "name": "python3"
  },
  "language_info": {
   "codemirror_mode": {
    "name": "ipython",
    "version": 3
   },
   "file_extension": ".py",
   "mimetype": "text/x-python",
   "name": "python",
   "nbconvert_exporter": "python",
   "pygments_lexer": "ipython3",
   "version": "3.9.13"
  },
  "orig_nbformat": 4
 },
 "nbformat": 4,
 "nbformat_minor": 2
}
