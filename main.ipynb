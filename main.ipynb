{
 "cells": [
  {
   "cell_type": "code",
   "execution_count": 51,
   "metadata": {},
   "outputs": [
    {
     "name": "stdout",
     "output_type": "stream",
     "text": [
      "Requirement already satisfied: pandas in d:\\github\\semestre-8\\lab2-ds\\venv\\lib\\site-packages (2.0.3)"
     ]
    },
    {
     "name": "stderr",
     "output_type": "stream",
     "text": [
      "\n",
      "[notice] A new release of pip is available: 23.1.2 -> 23.2.1\n",
      "[notice] To update, run: python.exe -m pip install --upgrade pip\n"
     ]
    },
    {
     "name": "stdout",
     "output_type": "stream",
     "text": [
      "\n",
      "Requirement already satisfied: python-dateutil>=2.8.2 in d:\\github\\semestre-8\\lab2-ds\\venv\\lib\\site-packages (from pandas) (2.8.2)\n",
      "Requirement already satisfied: pytz>=2020.1 in d:\\github\\semestre-8\\lab2-ds\\venv\\lib\\site-packages (from pandas) (2023.3)\n",
      "Requirement already satisfied: tzdata>=2022.1 in d:\\github\\semestre-8\\lab2-ds\\venv\\lib\\site-packages (from pandas) (2023.3)\n",
      "Requirement already satisfied: numpy>=1.21.0 in d:\\github\\semestre-8\\lab2-ds\\venv\\lib\\site-packages (from pandas) (1.24.3)\n",
      "Requirement already satisfied: six>=1.5 in d:\\github\\semestre-8\\lab2-ds\\venv\\lib\\site-packages (from python-dateutil>=2.8.2->pandas) (1.16.0)\n"
     ]
    }
   ],
   "source": [
    "!pip install pandas"
   ]
  },
  {
   "cell_type": "code",
   "execution_count": 52,
   "metadata": {},
   "outputs": [
    {
     "name": "stderr",
     "output_type": "stream",
     "text": [
      "\n",
      "[notice] A new release of pip is available: 23.1.2 -> 23.2.1\n",
      "[notice] To update, run: python.exe -m pip install --upgrade pip\n"
     ]
    },
    {
     "name": "stdout",
     "output_type": "stream",
     "text": [
      "Requirement already satisfied: seaborn in d:\\github\\semestre-8\\lab2-ds\\venv\\lib\\site-packages (0.12.2)\n",
      "Requirement already satisfied: numpy!=1.24.0,>=1.17 in d:\\github\\semestre-8\\lab2-ds\\venv\\lib\\site-packages (from seaborn) (1.24.3)\n",
      "Requirement already satisfied: pandas>=0.25 in d:\\github\\semestre-8\\lab2-ds\\venv\\lib\\site-packages (from seaborn) (2.0.3)\n",
      "Requirement already satisfied: matplotlib!=3.6.1,>=3.1 in d:\\github\\semestre-8\\lab2-ds\\venv\\lib\\site-packages (from seaborn) (3.7.2)\n",
      "Requirement already satisfied: contourpy>=1.0.1 in d:\\github\\semestre-8\\lab2-ds\\venv\\lib\\site-packages (from matplotlib!=3.6.1,>=3.1->seaborn) (1.1.0)\n",
      "Requirement already satisfied: cycler>=0.10 in d:\\github\\semestre-8\\lab2-ds\\venv\\lib\\site-packages (from matplotlib!=3.6.1,>=3.1->seaborn) (0.11.0)\n",
      "Requirement already satisfied: fonttools>=4.22.0 in d:\\github\\semestre-8\\lab2-ds\\venv\\lib\\site-packages (from matplotlib!=3.6.1,>=3.1->seaborn) (4.42.1)\n",
      "Requirement already satisfied: kiwisolver>=1.0.1 in d:\\github\\semestre-8\\lab2-ds\\venv\\lib\\site-packages (from matplotlib!=3.6.1,>=3.1->seaborn) (1.4.4)\n",
      "Requirement already satisfied: packaging>=20.0 in d:\\github\\semestre-8\\lab2-ds\\venv\\lib\\site-packages (from matplotlib!=3.6.1,>=3.1->seaborn) (23.1)\n",
      "Requirement already satisfied: pillow>=6.2.0 in d:\\github\\semestre-8\\lab2-ds\\venv\\lib\\site-packages (from matplotlib!=3.6.1,>=3.1->seaborn) (10.0.0)\n",
      "Requirement already satisfied: pyparsing<3.1,>=2.3.1 in d:\\github\\semestre-8\\lab2-ds\\venv\\lib\\site-packages (from matplotlib!=3.6.1,>=3.1->seaborn) (3.0.9)\n",
      "Requirement already satisfied: python-dateutil>=2.7 in d:\\github\\semestre-8\\lab2-ds\\venv\\lib\\site-packages (from matplotlib!=3.6.1,>=3.1->seaborn) (2.8.2)\n",
      "Requirement already satisfied: pytz>=2020.1 in d:\\github\\semestre-8\\lab2-ds\\venv\\lib\\site-packages (from pandas>=0.25->seaborn) (2023.3)\n",
      "Requirement already satisfied: tzdata>=2022.1 in d:\\github\\semestre-8\\lab2-ds\\venv\\lib\\site-packages (from pandas>=0.25->seaborn) (2023.3)\n",
      "Requirement already satisfied: six>=1.5 in d:\\github\\semestre-8\\lab2-ds\\venv\\lib\\site-packages (from python-dateutil>=2.7->matplotlib!=3.6.1,>=3.1->seaborn) (1.16.0)\n",
      "Requirement already satisfied: matplotlib in d:\\github\\semestre-8\\lab2-ds\\venv\\lib\\site-packages (3.7.2)\n",
      "Requirement already satisfied: contourpy>=1.0.1 in d:\\github\\semestre-8\\lab2-ds\\venv\\lib\\site-packages (from matplotlib) (1.1.0)\n",
      "Requirement already satisfied: cycler>=0.10 in d:\\github\\semestre-8\\lab2-ds\\venv\\lib\\site-packages (from matplotlib) (0.11.0)\n",
      "Requirement already satisfied: fonttools>=4.22.0 in d:\\github\\semestre-8\\lab2-ds\\venv\\lib\\site-packages (from matplotlib) (4.42.1)\n",
      "Requirement already satisfied: kiwisolver>=1.0.1 in d:\\github\\semestre-8\\lab2-ds\\venv\\lib\\site-packages (from matplotlib) (1.4.4)\n",
      "Requirement already satisfied: numpy>=1.20 in d:\\github\\semestre-8\\lab2-ds\\venv\\lib\\site-packages (from matplotlib) (1.24.3)\n",
      "Requirement already satisfied: packaging>=20.0 in d:\\github\\semestre-8\\lab2-ds\\venv\\lib\\site-packages (from matplotlib) (23.1)\n",
      "Requirement already satisfied: pillow>=6.2.0 in d:\\github\\semestre-8\\lab2-ds\\venv\\lib\\site-packages (from matplotlib) (10.0.0)\n",
      "Requirement already satisfied: pyparsing<3.1,>=2.3.1 in d:\\github\\semestre-8\\lab2-ds\\venv\\lib\\site-packages (from matplotlib) (3.0.9)\n",
      "Requirement already satisfied: python-dateutil>=2.7 in d:\\github\\semestre-8\\lab2-ds\\venv\\lib\\site-packages (from matplotlib) (2.8.2)\n",
      "Requirement already satisfied: six>=1.5 in d:\\github\\semestre-8\\lab2-ds\\venv\\lib\\site-packages (from python-dateutil>=2.7->matplotlib) (1.16.0)\n"
     ]
    },
    {
     "name": "stderr",
     "output_type": "stream",
     "text": [
      "\n",
      "[notice] A new release of pip is available: 23.1.2 -> 23.2.1\n",
      "[notice] To update, run: python.exe -m pip install --upgrade pip\n"
     ]
    }
   ],
   "source": [
    "!pip install seaborn\n",
    "!pip install matplotlib"
   ]
  },
  {
   "cell_type": "code",
   "execution_count": 53,
   "metadata": {},
   "outputs": [],
   "source": [
    "import os\n",
    "import pandas as pd\n",
    "import numpy as np\n",
    "import seaborn as sns\n",
    "import matplotlib.pyplot as plt\n",
    "from matplotlib.image import imread\n",
    "%matplotlib inline"
   ]
  },
  {
   "cell_type": "code",
   "execution_count": 54,
   "metadata": {},
   "outputs": [],
   "source": [
    "dir_datos = './Data/Datos_Rotulos_Trafico/'"
   ]
  },
  {
   "cell_type": "code",
   "execution_count": 55,
   "metadata": {},
   "outputs": [],
   "source": [
    "trayecto_test = os.path.join(dir_datos, 'prueba.p')\n",
    "trayecto_train = os.path.join(dir_datos, 'entrenamiento.p')\n",
    "trayecto_validation = os.path.join(dir_datos, 'validacion.p')"
   ]
  },
  {
   "cell_type": "code",
   "execution_count": 56,
   "metadata": {},
   "outputs": [
    {
     "name": "stdout",
     "output_type": "stream",
     "text": [
      "El archivo prueba.p existe en la ruta especificada.\n"
     ]
    }
   ],
   "source": [
    "if os.path.exists(trayecto_test):\n",
    "    print(\"El archivo prueba.p existe en la ruta especificada.\")\n",
    "else:\n",
    "    raise Exception(\"El archivo prueba.p no existe en la ruta especificada.\")"
   ]
  },
  {
   "cell_type": "code",
   "execution_count": 57,
   "metadata": {},
   "outputs": [
    {
     "name": "stdout",
     "output_type": "stream",
     "text": [
      "El archivo entrenamiento.p existe en la ruta especificada.\n"
     ]
    }
   ],
   "source": [
    "if os.path.exists(trayecto_train):\n",
    "    print(\"El archivo entrenamiento.p existe en la ruta especificada.\")\n",
    "else:\n",
    "    raise Exception(\"El archivo entrenamiento.p no existe en la ruta especificada.\")"
   ]
  },
  {
   "cell_type": "markdown",
   "metadata": {},
   "source": [
    "### Obtener Data"
   ]
  },
  {
   "cell_type": "code",
   "execution_count": 58,
   "metadata": {},
   "outputs": [],
   "source": [
    "import pickle\n",
    "\n",
    "def get_data(filePath):\n",
    "    with open(filePath, \"rb\") as archivo:\n",
    "        objeto_cargado = pickle.load(archivo)\n",
    "\n",
    "    y = objeto_cargado.pop('labels')\n",
    "    x = objeto_cargado.pop('features')\n",
    "    return x, y\n",
    "\n",
    "X_train, y_train = get_data(os.path.join(dir_datos, 'entrenamiento.p'))\n",
    "X_test, y_test = get_data(os.path.join(dir_datos, 'prueba.p'))\n",
    "X_validation, y_validation = get_data(os.path.join(dir_datos, 'validacion.p'))"
   ]
  },
  {
   "cell_type": "markdown",
   "metadata": {},
   "source": [
    "### Se validan las dimensiones de las imagenes"
   ]
  },
  {
   "cell_type": "code",
   "execution_count": 59,
   "metadata": {},
   "outputs": [
    {
     "name": "stdout",
     "output_type": "stream",
     "text": [
      "No hay dimensiones diferentes en las imagenes de entreno\n",
      "No hay dimensiones diferentes en las imagenes de testing\n",
      "No hay dimensiones diferentes en las imagenes de Validacion\n"
     ]
    }
   ],
   "source": [
    "last = X_train[0].shape\n",
    "diferencia = False\n",
    "\n",
    "for img in X_train:\n",
    "    if img.shape != last:\n",
    "        diferencia = True\n",
    "\n",
    "if diferencia:\n",
    "    print('Hay dimensiones diferentes en las imagenes de entreno')\n",
    "\n",
    "else:\n",
    "    print('No hay dimensiones diferentes en las imagenes de entreno')\n",
    "\n",
    "last = X_test[0].shape\n",
    "diferencia = False\n",
    "\n",
    "for img in X_test:\n",
    "    if img.shape != last:\n",
    "        diferencia = True\n",
    "\n",
    "if diferencia:\n",
    "    print('Hay dimensiones diferentes en las imagenes de testing')\n",
    "\n",
    "else:\n",
    "    print('No hay dimensiones diferentes en las imagenes de testing')\n",
    "\n",
    "last = X_validation[0].shape\n",
    "diferencia = False\n",
    "\n",
    "for img in X_validation:\n",
    "    if img.shape != last:\n",
    "        diferencia = True\n",
    "\n",
    "if diferencia:\n",
    "    print('Hay dimensiones diferentes en las imagenes de Validacion')\n",
    "\n",
    "else:\n",
    "    print('No hay dimensiones diferentes en las imagenes de Validacion')\n"
   ]
  },
  {
   "cell_type": "markdown",
   "metadata": {},
   "source": [
    "### Normalizacion"
   ]
  },
  {
   "cell_type": "code",
   "execution_count": 61,
   "metadata": {},
   "outputs": [
    {
     "data": {
      "text/plain": [
       "19"
      ]
     },
     "execution_count": 61,
     "metadata": {},
     "output_type": "execute_result"
    }
   ],
   "source": [
    "X_train[0].min()"
   ]
  },
  {
   "cell_type": "code",
   "execution_count": 62,
   "metadata": {},
   "outputs": [
    {
     "data": {
      "text/plain": [
       "113"
      ]
     },
     "execution_count": 62,
     "metadata": {},
     "output_type": "execute_result"
    }
   ],
   "source": [
    "X_train[0].max()"
   ]
  },
  {
   "cell_type": "code",
   "execution_count": 63,
   "metadata": {},
   "outputs": [
    {
     "data": {
      "text/plain": [
       "<matplotlib.image.AxesImage at 0x22a48b73610>"
      ]
     },
     "execution_count": 63,
     "metadata": {},
     "output_type": "execute_result"
    },
    {
     "data": {
      "image/png": "[encoded data removed]",
      "text/plain": [
       "<Figure size 640x480 with 1 Axes>"
      ]
     },
     "metadata": {},
     "output_type": "display_data"
    }
   ],
   "source": [
    "plt.imshow(X_train[0])"
   ]
  },
  {
   "cell_type": "code",
   "execution_count": 64,
   "metadata": {},
   "outputs": [],
   "source": [
    "X_train = X_train / 255\n",
    "X_test = X_test / 255\n",
    "X_validation = X_validation / 255"
   ]
  },
  {
   "cell_type": "code",
   "execution_count": 65,
   "metadata": {},
   "outputs": [
    {
     "data": {
      "text/plain": [
       "<matplotlib.image.AxesImage at 0x22a48c00210>"
      ]
     },
     "execution_count": 65,
     "metadata": {},
     "output_type": "execute_result"
    },
    {
     "data": {
      "image/png": "[encoded data removed]",
      "text/plain": [
       "<Figure size 640x480 with 1 Axes>"
      ]
     },
     "metadata": {},
     "output_type": "display_data"
    }
   ],
   "source": [
    "plt.imshow(X_train[0])"
   ]
  },
  {
   "cell_type": "code",
   "execution_count": 66,
   "metadata": {},
   "outputs": [
    {
     "data": {
      "text/plain": [
       "(34799, 32, 32, 3)"
      ]
     },
     "execution_count": 66,
     "metadata": {},
     "output_type": "execute_result"
    }
   ],
   "source": [
    "X_train.shape"
   ]
  },
  {
   "cell_type": "markdown",
   "metadata": {},
   "source": [
    "### Entreno"
   ]
  },
  {
   "cell_type": "code",
   "execution_count": 67,
   "metadata": {},
   "outputs": [],
   "source": [
    "from tensorflow.keras.models import Sequential\n",
    "from tensorflow.keras.layers import Dense, Conv2D, MaxPool2D, Flatten, Conv3D"
   ]
  },
  {
   "cell_type": "code",
   "execution_count": 68,
   "metadata": {},
   "outputs": [],
   "source": [
    "modelo = Sequential()\n",
    "\n",
    "# Capa convolucional\n",
    "modelo.add(Conv2D(filters = 6, kernel_size = (5, 5), input_shape = (32, 32, 3), activation = 'relu'))\n",
    "# Capa pooling\n",
    "modelo.add(MaxPool2D(pool_size = (2, 2)))\n",
    "\n",
    "\n",
    "modelo.add(Conv2D(filters = 16, kernel_size = (5, 5), input_shape = (32, 32, 3), activation = 'relu'))\n",
    "\n",
    "# Capa pooling\n",
    "modelo.add(MaxPool2D(pool_size = (2, 2)))\n",
    "\n",
    "# Capa aplanada\n",
    "modelo.add(Flatten())\n",
    "\n",
    "# Hidden layers\n",
    "modelo.add(Dense(120, activation = 'relu'))\n",
    "modelo.add(Dense(84, activation = 'relu'))\n",
    "# Clasificadora (softmax)\n",
    "modelo.add(Dense(43, activation='softmax'))"
   ]
  },
  {
   "cell_type": "code",
   "execution_count": 69,
   "metadata": {},
   "outputs": [
    {
     "name": "stdout",
     "output_type": "stream",
     "text": [
      "Model: \"sequential_13\"\n",
      "_________________________________________________________________\n",
      " Layer (type)                Output Shape              Param #   \n",
      "=================================================================\n",
      " conv2d_11 (Conv2D)          (None, 28, 28, 6)         456       \n",
      "                                                                 \n",
      " max_pooling2d_10 (MaxPooli  (None, 14, 14, 6)         0         \n",
      " ng2D)                                                           \n",
      "                                                                 \n",
      " conv2d_12 (Conv2D)          (None, 10, 10, 16)        2416      \n",
      "                                                                 \n",
      " max_pooling2d_11 (MaxPooli  (None, 5, 5, 16)          0         \n",
      " ng2D)                                                           \n",
      "                                                                 \n",
      " flatten_6 (Flatten)         (None, 400)               0         \n",
      "                                                                 \n",
      " dense_16 (Dense)            (None, 120)               48120     \n",
      "                                                                 \n",
      " dense_17 (Dense)            (None, 84)                10164     \n",
      "                                                                 \n",
      " dense_18 (Dense)            (None, 43)                3655      \n",
      "                                                                 \n",
      "=================================================================\n",
      "Total params: 64811 (253.17 KB)\n",
      "Trainable params: 64811 (253.17 KB)\n",
      "Non-trainable params: 0 (0.00 Byte)\n",
      "_________________________________________________________________\n"
     ]
    }
   ],
   "source": [
    "import tensorflow as tf\n",
    "modelo.compile(\n",
    "    optimizer = tf.keras.optimizers.Adam(learning_rate=0.001),\n",
    "    loss = tf.losses.SparseCategoricalCrossentropy(),\n",
    "    metrics = ['accuracy']\n",
    ")\n",
    "\n",
    "modelo.build((32, 32, 3))\n",
    "modelo.summary()"
   ]
  },
  {
   "cell_type": "code",
   "execution_count": 70,
   "metadata": {},
   "outputs": [
    {
     "name": "stdout",
     "output_type": "stream",
     "text": [
      "Epoch 1/10\n",
      "1088/1088 [==============================] - 18s 13ms/step - loss: 1.2214 - accuracy: 0.6650 - val_loss: 0.8096 - val_accuracy: 0.8069\n",
      "Epoch 2/10\n",
      "1088/1088 [==============================] - 12s 11ms/step - loss: 0.2753 - accuracy: 0.9229 - val_loss: 0.6600 - val_accuracy: 0.8624\n",
      "Epoch 3/10\n",
      "1088/1088 [==============================] - 13s 12ms/step - loss: 0.1529 - accuracy: 0.9591 - val_loss: 0.6006 - val_accuracy: 0.8797\n",
      "Epoch 4/10\n",
      "1088/1088 [==============================] - 13s 12ms/step - loss: 0.1075 - accuracy: 0.9711 - val_loss: 0.5376 - val_accuracy: 0.8962\n",
      "Epoch 5/10\n",
      "1088/1088 [==============================] - 12s 11ms/step - loss: 0.0815 - accuracy: 0.9776 - val_loss: 0.5734 - val_accuracy: 0.8950\n",
      "Epoch 6/10\n",
      "1088/1088 [==============================] - 11s 10ms/step - loss: 0.0611 - accuracy: 0.9829 - val_loss: 0.5551 - val_accuracy: 0.9040\n"
     ]
    },
    {
     "data": {
      "text/plain": [
       "<keras.src.callbacks.History at 0x22a423f8450>"
      ]
     },
     "execution_count": 70,
     "metadata": {},
     "output_type": "execute_result"
    }
   ],
   "source": [
    "from tensorflow.keras.callbacks import EarlyStopping\n",
    "detencion_temprana = EarlyStopping(monitor = 'val_loss', patience = 2)\n",
    "\n",
    "modelo.fit(\n",
    "    X_train,\n",
    "    y_train,\n",
    "    epochs = 10,\n",
    "    validation_data = (X_test, y_test),\n",
    "    callbacks = [detencion_temprana]\n",
    ")"
   ]
  },
  {
   "cell_type": "markdown",
   "metadata": {},
   "source": [
    "### Testing"
   ]
  },
  {
   "cell_type": "code",
   "execution_count": 71,
   "metadata": {},
   "outputs": [
    {
     "name": "stdout",
     "output_type": "stream",
     "text": [
      "       loss  accuracy  val_loss  val_accuracy\n",
      "0  1.221362  0.664962  0.809593      0.806888\n",
      "1  0.275304  0.922929  0.660015      0.862391\n",
      "2  0.152949  0.959137  0.600581      0.879731\n",
      "3  0.107516  0.971120  0.537615      0.896200\n",
      "4  0.081455  0.977557  0.573367      0.895012\n"
     ]
    },
    {
     "data": {
      "text/plain": [
       "<Axes: >"
      ]
     },
     "execution_count": 71,
     "metadata": {},
     "output_type": "execute_result"
    },
    {
     "data": {
      "image/png": "[encoded data removed]",
      "text/plain": [
       "<Figure size 640x480 with 1 Axes>"
      ]
     },
     "metadata": {},
     "output_type": "display_data"
    },
    {
     "data": {
      "image/png": "[encoded data removed]",
      "text/plain": [
       "<Figure size 640x480 with 1 Axes>"
      ]
     },
     "metadata": {},
     "output_type": "display_data"
    }
   ],
   "source": [
    "modelo.metrics_names\n",
    "metricas = pd.DataFrame(modelo.history.history)\n",
    "print(metricas.head())\n",
    "metricas[['accuracy', 'val_accuracy']].plot()\n",
    "metricas[['loss', 'val_loss']].plot()"
   ]
  },
  {
   "cell_type": "code",
   "execution_count": 72,
   "metadata": {},
   "outputs": [
    {
     "name": "stdout",
     "output_type": "stream",
     "text": [
      "['loss', 'accuracy']\n",
      "[0.5550875663757324, 0.9039588570594788]\n"
     ]
    }
   ],
   "source": [
    "print(modelo.metrics_names)\n",
    "print(modelo.evaluate(X_test, y_test, verbose = 0))"
   ]
  }
 ],
 "metadata": {
  "kernelspec": {
   "display_name": "venv",
   "language": "python",
   "name": "python3"
  },
  "language_info": {
   "codemirror_mode": {
    "name": "ipython",
    "version": 3
   },
   "file_extension": ".py",
   "mimetype": "text/x-python",
   "name": "python",
   "nbconvert_exporter": "python",
   "pygments_lexer": "ipython3",
   "version": "3.11.4"
  },
  "orig_nbformat": 4
 },
 "nbformat": 4,
 "nbformat_minor": 2
}
